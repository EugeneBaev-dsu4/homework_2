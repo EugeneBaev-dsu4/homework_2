{
 "cells": [
  {
   "cell_type": "markdown",
   "metadata": {},
   "source": [
    "## Задание 1"
   ]
  },
  {
   "cell_type": "code",
   "execution_count": 7,
   "metadata": {},
   "outputs": [
    {
     "name": "stdout",
     "output_type": "stream",
     "text": [
      "t\n"
     ]
    }
   ],
   "source": [
    "word = 'testing'\n",
    "if len (word)%2 ==0:\n",
    "    print (word[(int((len(word)/2))-1):((int(len(word)/2))+1)])\n",
    "else:\n",
    "    print (word[int(len(word)/2)])"
   ]
  },
  {
   "cell_type": "markdown",
   "metadata": {},
   "source": [
    "## Задание 2"
   ]
  },
  {
   "cell_type": "code",
   "execution_count": 3,
   "metadata": {},
   "outputs": [
    {
     "name": "stdout",
     "output_type": "stream",
     "text": [
      "Введите число: 0\n",
      "Результат:  0\n"
     ]
    }
   ],
   "source": [
    "numbers = []\n",
    "for i in range (10):\n",
    "    number = int(input('Введите число: '))\n",
    "    if number != 0:\n",
    "        numbers.append(number) \n",
    "    else:\n",
    "        break\n",
    "print('Результат: ',sum(numbers)) "
   ]
  },
  {
   "cell_type": "markdown",
   "metadata": {},
   "source": [
    "## Задание 3"
   ]
  },
  {
   "cell_type": "code",
   "execution_count": 7,
   "metadata": {},
   "outputs": [
    {
     "name": "stdout",
     "output_type": "stream",
     "text": [
      "Внимание, кто-то может остаться без пары!\n"
     ]
    }
   ],
   "source": [
    "boys = ['Peter', 'Alex', 'John', 'Arthur', 'Richard', 'Michael']\n",
    "girls = ['Kate', 'Liza', 'Kira', 'Emma', 'Trisha']\n",
    "\n",
    "if len (boys) == len (girls):\n",
    "    print ('Идеальные пары:')\n",
    "    for boy, girl in zip(sorted(boys), sorted (girls)):\n",
    "        print (boy,'и',girl)\n",
    "else:\n",
    "    print ('Внимание, кто-то может остаться без пары!')"
   ]
  },
  {
   "cell_type": "markdown",
   "metadata": {},
   "source": [
    "## Задание 4"
   ]
  },
  {
   "cell_type": "code",
   "execution_count": 17,
   "metadata": {},
   "outputs": [
    {
     "name": "stdout",
     "output_type": "stream",
     "text": [
      "Средняя температура в странах:\n",
      "Thailand - 23.9 C\n",
      "Germany - 13.8 C\n",
      "Russia - 3.7 C\n",
      "Poland - 12.0 C\n"
     ]
    }
   ],
   "source": [
    "countries_temperature = [\n",
    "['Thailand', [75.2, 77, 78.8, 73.4, 68, 75.2, 77]],\n",
    "['Germany', [57.2, 55.4, 59, 59, 53.6]],\n",
    "['Russia', [35.6, 37.4, 39.2, 41, 42.8, 39.2, 35.6]],\n",
    "['Poland', [50, 50, 53.6, 57.2, 55.4, 55.4]]\n",
    "]\n",
    "\n",
    "temperature_f = []\n",
    "countries = []\n",
    "\n",
    "for i in countries_temperature:\n",
    "    countries.append(i[0])\n",
    "    temperature_f.append(i[1])\n",
    "    \n",
    "\n",
    "temperature_c_avg =[]\n",
    "for temperature in temperature_f:\n",
    "    avg_temp_f = sum(temperature)/ float(len(temperature))\n",
    "    avg_temp_c = (avg_temp_f-32)/1.8\n",
    "    temperature_c_avg.append(round (avg_temp_c,1))\n",
    "\n",
    "print ('Средняя температура в странах:')\n",
    "for country, temperature in zip (countries, temperature_c_avg):\n",
    "    print (country, '-', temperature, 'C')"
   ]
  },
  {
   "cell_type": "code",
   "execution_count": null,
   "metadata": {},
   "outputs": [],
   "source": []
  }
 ],
 "metadata": {
  "kernelspec": {
   "display_name": "Python 3",
   "language": "python",
   "name": "python3"
  },
  "language_info": {
   "codemirror_mode": {
    "name": "ipython",
    "version": 3
   },
   "file_extension": ".py",
   "mimetype": "text/x-python",
   "name": "python",
   "nbconvert_exporter": "python",
   "pygments_lexer": "ipython3",
   "version": "3.7.6"
  }
 },
 "nbformat": 4,
 "nbformat_minor": 4
}
